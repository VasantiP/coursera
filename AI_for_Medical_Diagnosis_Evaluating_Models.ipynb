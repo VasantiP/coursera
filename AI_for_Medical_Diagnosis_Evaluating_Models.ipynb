{
  "nbformat": 4,
  "nbformat_minor": 0,
  "metadata": {
    "colab": {
      "provenance": [],
      "authorship_tag": "ABX9TyPQIykml7+iX5cM/V/TSWxM",
      "include_colab_link": true
    },
    "kernelspec": {
      "name": "python3",
      "display_name": "Python 3"
    },
    "language_info": {
      "name": "python"
    }
  },
  "cells": [
    {
      "cell_type": "markdown",
      "metadata": {
        "id": "view-in-github",
        "colab_type": "text"
      },
      "source": [
        "<a href=\"https://colab.research.google.com/github/VasantiP/coursera/blob/main/AI_for_Medical_Diagnosis_Evaluating_Models.ipynb\" target=\"_parent\"><img src=\"https://colab.research.google.com/assets/colab-badge.svg\" alt=\"Open In Colab\"/></a>"
      ]
    },
    {
      "cell_type": "markdown",
      "source": [
        "#Accuracy\n",
        "* Sensitivity = P(+ prediction | disease) = Given the patient has the disease, the probability that the model predicts positive result\n",
        "* Specificity = P(- prediction | normal) = Given the patient does not have a disease, the probability that the model predicts negative result\n",
        "\n",
        "$$\\text{Accuracy} = \\text{Sensitivity} \\times \\text{prevalence} + \\text{Specificity} \\times (1-\\text{prevalence})$$\n",
        "\n",
        "$$\\text{Accuracy} = \\frac{\\text{#(+ prediction | disease)}}{\\text{#(disease)}}\\times\\frac{\\text{#(disease)}}{\\text{#(total)}}+\\frac{\\text{#(- prediction | normal)}}{\\text{#(normal)}}\\times\\big(1-\\frac{\\text{#(disease)}}{\\text{#(total)}}\\big)$$\n",
        "\n",
        "\n",
        "* PPV = Positive Predictive Value = P(disease | + prediction)\n",
        "$$PPV = \\frac{\\text{#(+ prediction | disease)}}{\\text{#(+ prediction)}}$$\n",
        "* NPV = Negative Predictive Value = P(normal | - prediction)\n",
        "$$NPV = \\frac{\\text{#(- prediction | normal)}}{\\text{#(- prediction)}}$$\n",
        "\n",
        "\n",
        "###Confusion Matrix\n",
        "Table with ground truth as rows, and model output as columns, with cells corresponding to  \n",
        "\n",
        "$$Sensitivity = \\frac{TP}{TP+FN}$$\n",
        "$$Specificity = \\frac{TN}{FP+TN}$$\n",
        "$$PPV = \\frac{TP}{TP + FP}$$\n",
        "$$NPV = \\frac{TN}{TN + FN}$$\n",
        "\n",
        "\n",
        "$$PPV=\\frac{sensitivity \\times prevalence}{sensitivity \\times prevalence + (1-specificity)\\times(1-prevalence)}$$\n"
      ],
      "metadata": {
        "id": "ybgwS_7EoAPq"
      }
    }
  ]
}